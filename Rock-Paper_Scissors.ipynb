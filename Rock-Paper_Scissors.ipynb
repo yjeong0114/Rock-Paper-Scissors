{
 "cells": [
  {
   "cell_type": "code",
   "execution_count": 4,
   "id": "a4edb946",
   "metadata": {},
   "outputs": [
    {
     "name": "stdout",
     "output_type": "stream",
     "text": [
      "Please, choose one: \n",
      "-Rock \n",
      "-Paper \n",
      "-Scissors \n",
      "-Quit if you wanna quit..\n",
      " rock\n",
      "You: rock \n",
      "Computer: scissors\n",
      "You win\n",
      "Please, choose one: \n",
      "-Rock \n",
      "-Paper \n",
      "-Scissors \n",
      "-Quit if you wanna quit..\n",
      " Rock\n",
      "You: Rock \n",
      "Computer: scissors\n",
      "You win\n",
      "Please, choose one: \n",
      "-Rock \n",
      "-Paper \n",
      "-Scissors \n",
      "-Quit if you wanna quit..\n",
      " ROCK\n",
      "You: ROCK \n",
      "Computer: scissors\n",
      "You win\n",
      "Please, choose one: \n",
      "-Rock \n",
      "-Paper \n",
      "-Scissors \n",
      "-Quit if you wanna quit..\n",
      " sksk\n",
      "You: sksk \n",
      "Computer: paper\n",
      "Invalid option...Please, choose again:)\n",
      "Please, choose one: \n",
      "-Rock \n",
      "-Paper \n",
      "-Scissors \n",
      "-Quit if you wanna quit..\n",
      " quit\n",
      "Thank you for playing\n"
     ]
    }
   ],
   "source": [
    "from random import randint\n",
    " \n",
    "list_r = ['rock','paper','scissors']\n",
    "\n",
    "\n",
    "\n",
    "def check():\n",
    "    if not user.lower() in list_r:\n",
    "        print(\"Invalid option...Please, choose again:)\")\n",
    "        return\n",
    "    \n",
    "    if list_r[com] == user.lower():\n",
    "        print(\"Game Tied\")\n",
    "    elif list_r[com] == \"rock\" and user.lower() ==\"scissors\":\n",
    "        print(\"You lose\")\n",
    "    elif list_r[com] == \"scissors\" and user.lower() == \"paper\":\n",
    "        print(\"You lose\")\n",
    "    elif list_r[com] == \"paper\" and user.lower() == \"rock\":\n",
    "        print(\"You lose\")\n",
    "    else:\n",
    "        print(\"You win\")\n",
    "        \n",
    "while True:        \n",
    "    user = input(\"Please, choose one: \\n-Rock \\n-Paper \\n-Scissors \\n-Quit if you wanna quit..\\n \")\n",
    "    if user.lower() == \"quit\":\n",
    "        print(\"Thank you for playing\")\n",
    "        break\n",
    "    else:        \n",
    "        com = randint(0, 2)\n",
    "        print(f\"You: {user} \\nComputer: {list_r[com]}\")\n",
    "        check()\n",
    "    \n"
   ]
  },
  {
   "cell_type": "code",
   "execution_count": null,
   "id": "4362e6ea",
   "metadata": {},
   "outputs": [],
   "source": []
  },
  {
   "cell_type": "code",
   "execution_count": null,
   "id": "86ce29de",
   "metadata": {},
   "outputs": [],
   "source": []
  }
 ],
 "metadata": {
  "kernelspec": {
   "display_name": "Python 3 (ipykernel)",
   "language": "python",
   "name": "python3"
  },
  "language_info": {
   "codemirror_mode": {
    "name": "ipython",
    "version": 3
   },
   "file_extension": ".py",
   "mimetype": "text/x-python",
   "name": "python",
   "nbconvert_exporter": "python",
   "pygments_lexer": "ipython3",
   "version": "3.9.12"
  }
 },
 "nbformat": 4,
 "nbformat_minor": 5
}
